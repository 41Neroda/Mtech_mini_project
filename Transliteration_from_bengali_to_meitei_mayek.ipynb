{
 "cells": [
  {
   "cell_type": "code",
   "execution_count": 2,
   "id": "be54172a",
   "metadata": {},
   "outputs": [],
   "source": [
    "import json\n",
    "\n",
    "# Step 1: Load the JSON file\n",
    "with open(\"Dataset/flores_en_mni_dev.json\", \"r\", encoding=\"utf-8\") as f:\n",
    "    data = json.load(f)\n",
    "\n",
    "# Step 2: Extract source and target sentences\n",
    "examples = data[\"examples\"]\n",
    "sources = [ex[\"source\"] for ex in examples]\n",
    "targets = [ex[\"target\"] for ex in examples]\n",
    "\n",
    "# Step 3: Save to separate files\n",
    "with open(\"source_sentences.txt\", \"w\", encoding=\"utf-8\") as src_file:\n",
    "    src_file.write(\"\\n\".join(sources))\n",
    "\n",
    "with open(\"target_sentences.txt\", \"w\", encoding=\"utf-8\") as tgt_file:\n",
    "    tgt_file.write(\"\\n\".join(targets))\n"
   ]
  },
  {
   "cell_type": "code",
   "execution_count": 3,
   "id": "b98bd7c8",
   "metadata": {},
   "outputs": [
    {
     "data": {
      "text/plain": [
       "997"
      ]
     },
     "execution_count": 3,
     "metadata": {},
     "output_type": "execute_result"
    }
   ],
   "source": [
    "len(sources)"
   ]
  },
  {
   "cell_type": "code",
   "execution_count": 4,
   "id": "f20c7953",
   "metadata": {},
   "outputs": [
    {
     "data": {
      "text/plain": [
       "'Although most agencies are willing to take on most regular bookings, many agents specialise in particular types of travel, budget ranges or destinations.'"
      ]
     },
     "execution_count": 4,
     "metadata": {},
     "output_type": "execute_result"
    }
   ],
   "source": [
    "sources[0]"
   ]
  },
  {
   "cell_type": "code",
   "execution_count": 5,
   "id": "8164817d",
   "metadata": {},
   "outputs": [
    {
     "data": {
      "text/plain": [
       "997"
      ]
     },
     "execution_count": 5,
     "metadata": {},
     "output_type": "execute_result"
    }
   ],
   "source": [
    "len(targets)"
   ]
  },
  {
   "cell_type": "code",
   "execution_count": 6,
   "id": "076ae18a",
   "metadata": {},
   "outputs": [
    {
     "data": {
      "text/plain": [
       "'অদুমওইনমক, অয়াম্বা এজেন্সীশিংনা মহৌশাগী বুকিংগুম্না অদুমক লৌনবা হোৎনৈ, এজেন্ত কয়ানা ত্রাভেল, বজেৎকী রেঞ্জ নৎত্রগা লমথুংফমগী অখন্নবা মওংদা হেন্না খুৎলোইবসু য়াওই।'"
      ]
     },
     "execution_count": 6,
     "metadata": {},
     "output_type": "execute_result"
    }
   ],
   "source": [
    "targets[0]"
   ]
  },
  {
   "cell_type": "markdown",
   "id": "f4bb906a",
   "metadata": {},
   "source": [
    "# Transliteration from Bengali target script to Meitei Mayek script"
   ]
  },
  {
   "cell_type": "code",
   "execution_count": 7,
   "id": "fd6791d0",
   "metadata": {},
   "outputs": [],
   "source": [
    "def load_mapping(file1, file2):\n",
    "    with open(file1, 'r', encoding='utf-8') as f1, open(file2, 'r', encoding='utf-8') as f2:\n",
    "        keys = [line.strip() for line in f1]\n",
    "        values = [line.strip() for line in f2]\n",
    "    return dict(zip(keys, values))\n",
    "\n",
    "def transliterate_syllable_aware(line):\n",
    "    result = \"\"\n",
    "    i = 0\n",
    "    while i < len(line):\n",
    "        # Handle conjunct consonant: C + ্ + C\n",
    "        if (i + 2 < len(line)) and (line[i + 1] == hasanta and line[i] in lonsum_map and line[i + 2] in mapi_map):\n",
    "            result += lonsum_map[line[i]] + mapi_map[line[i + 2]]\n",
    "            i += 3\n",
    "            continue\n",
    "\n",
    "        ch = line[i]\n",
    "\n",
    "        # Vowel handling\n",
    "        if ch in vowel_map:\n",
    "            # Check next char for vowel (i.e., consecutive vowels)\n",
    "            if i + 1 < len(line) and line[i + 1] in vowel_map:\n",
    "                result += lonsum_map.get(ch, vowel_map[ch])  # use lonsum if exists\n",
    "            else:\n",
    "                result += vowel_map[ch]\n",
    "            i += 1\n",
    "            continue\n",
    "\n",
    "        # Full consonant\n",
    "        if ch in mapi_map:\n",
    "            result += mapi_map[ch]\n",
    "        # Half consonant\n",
    "        elif ch in lonsum_map:\n",
    "            result += lonsum_map[ch]\n",
    "        # Space or unknown\n",
    "        else:\n",
    "            result += ch\n",
    "\n",
    "        i += 1\n",
    "\n",
    "    return result\n",
    "\n",
    "# Load all mappings\n",
    "mapi_map = load_mapping(\"complete_bengali.txt\", \"mapi_mayek.txt\")\n",
    "lonsum_map = load_mapping(\"half_consonant.txt\", \"lonsum.txt\")\n",
    "vowel_map = load_mapping(\"vowel.txt\", \"cheitap.txt\")\n",
    "\n",
    "hasanta = '\\u09CD'\n",
    "\n",
    "targets_mni = [transliterate_syllable_aware(line) for line in targets]"
   ]
  },
  {
   "cell_type": "code",
   "execution_count": 8,
   "id": "36457734",
   "metadata": {},
   "outputs": [
    {
     "name": "stdout",
     "output_type": "stream",
     "text": [
      "Apun Iyek symbol is: ꯭\n"
     ]
    }
   ],
   "source": [
    "apun_iyek = '\\uABED'\n",
    "print(\"Apun Iyek symbol is:\", apun_iyek)\n"
   ]
  },
  {
   "cell_type": "code",
   "execution_count": 9,
   "id": "242e36b1",
   "metadata": {},
   "outputs": [
    {
     "data": {
      "text/plain": [
       "\"A triceratops' teeth would have been able to crush not only leaves but even very tough branches and roots.\""
      ]
     },
     "execution_count": 9,
     "metadata": {},
     "output_type": "execute_result"
    }
   ],
   "source": [
    "sources[4]"
   ]
  },
  {
   "cell_type": "code",
   "execution_count": 10,
   "id": "1fd3d3ab",
   "metadata": {},
   "outputs": [
    {
     "data": {
      "text/plain": [
       "'ত্রাইসেরাতোপ অমগী ময়ানা উনাশিংদা নত্তনা য়াম্না কনবা উশাশিং অমসুং উরাশিংসু তকখাইবা ঙম্লম্মী।'"
      ]
     },
     "execution_count": 10,
     "metadata": {},
     "output_type": "execute_result"
    }
   ],
   "source": [
    "targets[4]"
   ]
  },
  {
   "cell_type": "code",
   "execution_count": 11,
   "id": "577ed338",
   "metadata": {},
   "outputs": [
    {
     "data": {
      "text/plain": [
       "'ꯇ্ꯔꯥꯢꯁꯦꯔꯥꯇꯣꯄ ꯑꯃꯒꯤ ꯃꯌꯥꯅꯥ ꯎꯅꯥꯁꯤꯪꯗꯥ ꯅꯇ্ꯇꯅꯥ ꯌꯥꯃ্ꯅꯥ ꯀꯅꯕꯥ ꯎꯁꯥꯁꯤꯪ ꯑꯃꯁꯨꯪ ꯎꯔꯥꯁꯤꯪꯁꯨ ꯇꯀꯈꯥꯢꯕꯥ ꯉꯃ্ꯂꯃ্ꯃꯤ꯫'"
      ]
     },
     "execution_count": 11,
     "metadata": {},
     "output_type": "execute_result"
    }
   ],
   "source": [
    "targets_mni[4]"
   ]
  },
  {
   "cell_type": "code",
   "execution_count": 12,
   "id": "b069d813",
   "metadata": {},
   "outputs": [
    {
     "data": {
      "text/plain": [
       "997"
      ]
     },
     "execution_count": 12,
     "metadata": {},
     "output_type": "execute_result"
    }
   ],
   "source": [
    "len(targets_mni)"
   ]
  },
  {
   "cell_type": "markdown",
   "id": "1f598f04",
   "metadata": {},
   "source": [
    "# Edit manually all the incorrect transliterated words."
   ]
  },
  {
   "cell_type": "markdown",
   "id": "9cce2730",
   "metadata": {},
   "source": [
    "### Load back to python after editing"
   ]
  },
  {
   "cell_type": "code",
   "execution_count": 13,
   "id": "1e2ba4b6",
   "metadata": {},
   "outputs": [],
   "source": [
    "with open(\"Transliterated_texts.txt\", \"r\", encoding=\"utf-8\") as f:\n",
    "    edited_targets_mni = [line.strip() for line in f.readlines()]"
   ]
  },
  {
   "cell_type": "code",
   "execution_count": 14,
   "id": "9b956db0",
   "metadata": {},
   "outputs": [
    {
     "data": {
      "text/plain": [
       "'Although most agencies are willing to take on most regular bookings, many agents specialise in particular types of travel, budget ranges or destinations.'"
      ]
     },
     "execution_count": 14,
     "metadata": {},
     "output_type": "execute_result"
    }
   ],
   "source": [
    "sources[0]"
   ]
  },
  {
   "cell_type": "code",
   "execution_count": 15,
   "id": "302de57a",
   "metadata": {},
   "outputs": [
    {
     "data": {
      "text/plain": [
       "'অদুমওইনমক, অয়াম্বা এজেন্সীশিংনা মহৌশাগী বুকিংগুম্না অদুমক লৌনবা হোৎনৈ, এজেন্ত কয়ানা ত্রাভেল, বজেৎকী রেঞ্জ নৎত্রগা লমথুংফমগী অখন্নবা মওংদা হেন্না খুৎলোইবসু য়াওই।'"
      ]
     },
     "execution_count": 15,
     "metadata": {},
     "output_type": "execute_result"
    }
   ],
   "source": [
    "targets[0]"
   ]
  },
  {
   "cell_type": "code",
   "execution_count": 16,
   "id": "ff7c5ebd",
   "metadata": {},
   "outputs": [
    {
     "data": {
      "text/plain": [
       "'ꯑꯗꯨꯃꯑꯣꯢꯅꯃꯀ, ꯑꯌꯥꯃ্ꯕꯥ এꯖꯦꯅ্ꯁꯤꯁꯤꯪꯅꯥ ꯃꯍꯧꯁꯥꯒꯤ ꯕꯨꯀꯤꯪꯒꯨꯃ্ꯅꯥ ꯑꯗꯨꯃꯀ ꯂꯧꯅꯕꯥ ꯍꯣꯠꯅꯩ, এꯖꯦꯅ্ꯇ ꯀꯌꯥꯅꯥ ꯇ্ꯔꯥꯚꯦꯂ, ꯕꯖꯦꯠꯀꯤ ꯔꯦঞ্ꯖ ꯅꯠꯇ্ꯔꯒꯥ ꯂꯃꯊꯨꯪꯐꯃꯒꯤ ꯑꯈꯅ্ꯅꯕꯥ ꯃꯑꯣꯪꯗꯥ ꯍꯦꯅ্ꯅꯥ ꯈꯨꯠꯂꯣꯢꯕꯁꯨ ꯌꯥꯑꯣꯢ꯫'"
      ]
     },
     "execution_count": 16,
     "metadata": {},
     "output_type": "execute_result"
    }
   ],
   "source": [
    "targets_mni[0]"
   ]
  },
  {
   "cell_type": "code",
   "execution_count": 17,
   "id": "9341f248",
   "metadata": {},
   "outputs": [
    {
     "data": {
      "text/plain": [
       "'ꯑꯗꯨꯝꯑꯣꯢꯅꯃꯛ, ꯑꯌꯥꯝꯕ ꯑꯦꯖꯦꯟꯁꯤꯁꯤꯡꯅ ꯃꯍꯧꯁꯥꯒꯤ ꯕꯨꯀꯤꯡꯒꯨꯝꯅ ꯑꯗꯨꯃꯛ ꯂꯧꯅꯕꯥ ꯍꯣꯠꯅꯩ, ꯑꯦꯖꯦꯟꯠ ꯀꯌꯥꯅ ꯇ꯭ꯔꯥꯚꯦꯜ, ꯕꯖꯦꯠꯀꯤ ꯔꯦꯟꯖ ꯅꯠꯇ꯭ꯔꯒ ꯂꯝꯊꯨꯡꯐꯝꯒꯤ ꯑꯈꯟꯅꯕ ꯃꯑꯣꯡꯗ ꯍꯦꯟꯅ ꯈꯨꯠꯂꯣꯢꯕꯁꯨ ꯌꯥꯎꯢ꯫'"
      ]
     },
     "execution_count": 17,
     "metadata": {},
     "output_type": "execute_result"
    }
   ],
   "source": [
    "edited_targets_mni[0]"
   ]
  },
  {
   "cell_type": "markdown",
   "id": "5f0f9822",
   "metadata": {},
   "source": [
    "# Saving sources[] and edited_targets_mni[] inside the en_mni_dataset folder\n",
    "### .tsv (tab-separated values)"
   ]
  },
  {
   "cell_type": "code",
   "execution_count": 18,
   "id": "4c9947df",
   "metadata": {},
   "outputs": [],
   "source": [
    "with open(\"en_mni_dataset.tsv\", \"w\", encoding=\"utf-8\") as f:\n",
    "    for src, tgt in zip(sources, edited_targets_mni):\n",
    "        f.write(f\"{src}\\t{tgt}\\n\")\n"
   ]
  },
  {
   "cell_type": "markdown",
   "id": "c8b703ef",
   "metadata": {},
   "source": [
    "# Save as .csv (Comma-Separated)"
   ]
  },
  {
   "cell_type": "code",
   "execution_count": 19,
   "id": "9b81e7db",
   "metadata": {},
   "outputs": [],
   "source": [
    "import csv\n",
    "\n",
    "with open(\"en_mni_dataset.csv\", \"w\", encoding=\"utf-8\", newline='') as f:\n",
    "    writer = csv.writer(f)\n",
    "    writer.writerow([\"English\", \"MeiteiMayek\"])\n",
    "    for src, tgt in zip(sources, edited_targets_mni):\n",
    "        writer.writerow([src, tgt])\n"
   ]
  },
  {
   "cell_type": "markdown",
   "id": "03bc4380",
   "metadata": {},
   "source": [
    "# Save as JSON lines"
   ]
  },
  {
   "cell_type": "code",
   "execution_count": 20,
   "id": "8839339d",
   "metadata": {},
   "outputs": [],
   "source": [
    "import json\n",
    "\n",
    "with open(\"en_mni_dataset.jsonl\", \"w\", encoding=\"utf-8\") as f:\n",
    "    for src, tgt in zip(sources, edited_targets_mni):\n",
    "        f.write(json.dumps({\"source\": src, \"target\": tgt}) + \"\\n\")\n"
   ]
  },
  {
   "cell_type": "code",
   "execution_count": 21,
   "id": "16d4f29a",
   "metadata": {},
   "outputs": [],
   "source": [
    "import pandas as pd"
   ]
  },
  {
   "cell_type": "code",
   "execution_count": 22,
   "id": "d95e3612",
   "metadata": {},
   "outputs": [
    {
     "data": {
      "text/html": [
       "<div>\n",
       "<style scoped>\n",
       "    .dataframe tbody tr th:only-of-type {\n",
       "        vertical-align: middle;\n",
       "    }\n",
       "\n",
       "    .dataframe tbody tr th {\n",
       "        vertical-align: top;\n",
       "    }\n",
       "\n",
       "    .dataframe thead th {\n",
       "        text-align: right;\n",
       "    }\n",
       "</style>\n",
       "<table border=\"1\" class=\"dataframe\">\n",
       "  <thead>\n",
       "    <tr style=\"text-align: right;\">\n",
       "      <th></th>\n",
       "      <th>English</th>\n",
       "      <th>MeiteiMayek</th>\n",
       "    </tr>\n",
       "  </thead>\n",
       "  <tbody>\n",
       "    <tr>\n",
       "      <th>0</th>\n",
       "      <td>Although most agencies are willing to take on ...</td>\n",
       "      <td>ꯑꯗꯨꯝꯑꯣꯢꯅꯃꯛ, ꯑꯌꯥꯝꯕ ꯑꯦꯖꯦꯟꯁꯤꯁꯤꯡꯅ ꯃꯍꯧꯁꯥꯒꯤ ꯕꯨꯀꯤꯡꯒꯨꯝ...</td>\n",
       "    </tr>\n",
       "    <tr>\n",
       "      <th>1</th>\n",
       "      <td>If you're feeling more adventurous, take the o...</td>\n",
       "      <td>ꯑꯗꯣꯝꯅ ꯋꯥꯈꯜ ꯌꯥꯝꯅ ꯅꯨꯡꯉꯥꯢꯕ ꯑꯣꯢꯔꯒꯗꯤ, ꯁ꯭ꯃꯨꯊꯤ ꯅꯠꯇ꯭ꯔꯒ...</td>\n",
       "    </tr>\n",
       "    <tr>\n",
       "      <th>2</th>\n",
       "      <td>Airlines that offer these include Air Canada, ...</td>\n",
       "      <td>ꯍꯥꯢꯔꯤꯕ ꯀꯥꯟꯅꯕꯥ ꯑꯁꯤ ꯄꯤꯔꯤꯕ ꯑꯦꯌꯔꯂꯥꯢꯟꯁꯤꯡ ꯑꯗꯨꯗꯤ ꯑꯦꯌꯔ...</td>\n",
       "    </tr>\n",
       "    <tr>\n",
       "      <th>3</th>\n",
       "      <td>The number of users of the Yahoo! and Microsof...</td>\n",
       "      <td>ꯌꯥꯍꯨ! ꯑꯃꯁꯨꯡ ꯃꯥꯢꯀ꯭ꯔꯣꯁꯣꯐ ꯁꯔꯚꯤꯁꯦꯁꯀꯤ ꯌꯨꯖꯔꯁꯤꯡꯒꯤ ꯃꯁꯤ...</td>\n",
       "    </tr>\n",
       "    <tr>\n",
       "      <th>4</th>\n",
       "      <td>A triceratops' teeth would have been able to c...</td>\n",
       "      <td>ꯇ꯭ꯔꯥꯢꯁꯦꯔꯥꯇꯣꯞ ꯑꯃꯒꯤ ꯃꯌꯥꯅ ꯎꯅꯥꯁꯤꯡꯗ ꯅꯠꯇꯅ ꯌꯥꯝꯅ ꯀꯟꯕ ꯎ...</td>\n",
       "    </tr>\n",
       "  </tbody>\n",
       "</table>\n",
       "</div>"
      ],
      "text/plain": [
       "                                             English  \\\n",
       "0  Although most agencies are willing to take on ...   \n",
       "1  If you're feeling more adventurous, take the o...   \n",
       "2  Airlines that offer these include Air Canada, ...   \n",
       "3  The number of users of the Yahoo! and Microsof...   \n",
       "4  A triceratops' teeth would have been able to c...   \n",
       "\n",
       "                                         MeiteiMayek  \n",
       "0  ꯑꯗꯨꯝꯑꯣꯢꯅꯃꯛ, ꯑꯌꯥꯝꯕ ꯑꯦꯖꯦꯟꯁꯤꯁꯤꯡꯅ ꯃꯍꯧꯁꯥꯒꯤ ꯕꯨꯀꯤꯡꯒꯨꯝ...  \n",
       "1  ꯑꯗꯣꯝꯅ ꯋꯥꯈꯜ ꯌꯥꯝꯅ ꯅꯨꯡꯉꯥꯢꯕ ꯑꯣꯢꯔꯒꯗꯤ, ꯁ꯭ꯃꯨꯊꯤ ꯅꯠꯇ꯭ꯔꯒ...  \n",
       "2  ꯍꯥꯢꯔꯤꯕ ꯀꯥꯟꯅꯕꯥ ꯑꯁꯤ ꯄꯤꯔꯤꯕ ꯑꯦꯌꯔꯂꯥꯢꯟꯁꯤꯡ ꯑꯗꯨꯗꯤ ꯑꯦꯌꯔ...  \n",
       "3  ꯌꯥꯍꯨ! ꯑꯃꯁꯨꯡ ꯃꯥꯢꯀ꯭ꯔꯣꯁꯣꯐ ꯁꯔꯚꯤꯁꯦꯁꯀꯤ ꯌꯨꯖꯔꯁꯤꯡꯒꯤ ꯃꯁꯤ...  \n",
       "4  ꯇ꯭ꯔꯥꯢꯁꯦꯔꯥꯇꯣꯞ ꯑꯃꯒꯤ ꯃꯌꯥꯅ ꯎꯅꯥꯁꯤꯡꯗ ꯅꯠꯇꯅ ꯌꯥꯝꯅ ꯀꯟꯕ ꯎ...  "
      ]
     },
     "execution_count": 22,
     "metadata": {},
     "output_type": "execute_result"
    }
   ],
   "source": [
    "df = pd.read_csv(\"en_mni_dataset.csv\")\n",
    "df.head()"
   ]
  },
  {
   "cell_type": "code",
   "execution_count": 23,
   "id": "57156c55",
   "metadata": {},
   "outputs": [
    {
     "data": {
      "text/html": [
       "<div>\n",
       "<style scoped>\n",
       "    .dataframe tbody tr th:only-of-type {\n",
       "        vertical-align: middle;\n",
       "    }\n",
       "\n",
       "    .dataframe tbody tr th {\n",
       "        vertical-align: top;\n",
       "    }\n",
       "\n",
       "    .dataframe thead th {\n",
       "        text-align: right;\n",
       "    }\n",
       "</style>\n",
       "<table border=\"1\" class=\"dataframe\">\n",
       "  <thead>\n",
       "    <tr style=\"text-align: right;\">\n",
       "      <th></th>\n",
       "      <th>English</th>\n",
       "      <th>MeiteiMayek</th>\n",
       "    </tr>\n",
       "  </thead>\n",
       "  <tbody>\n",
       "    <tr>\n",
       "      <th>count</th>\n",
       "      <td>997</td>\n",
       "      <td>997</td>\n",
       "    </tr>\n",
       "    <tr>\n",
       "      <th>unique</th>\n",
       "      <td>997</td>\n",
       "      <td>997</td>\n",
       "    </tr>\n",
       "    <tr>\n",
       "      <th>top</th>\n",
       "      <td>Although most agencies are willing to take on ...</td>\n",
       "      <td>ꯑꯗꯨꯝꯑꯣꯢꯅꯃꯛ, ꯑꯌꯥꯝꯕ ꯑꯦꯖꯦꯟꯁꯤꯁꯤꯡꯅ ꯃꯍꯧꯁꯥꯒꯤ ꯕꯨꯀꯤꯡꯒꯨꯝ...</td>\n",
       "    </tr>\n",
       "    <tr>\n",
       "      <th>freq</th>\n",
       "      <td>1</td>\n",
       "      <td>1</td>\n",
       "    </tr>\n",
       "  </tbody>\n",
       "</table>\n",
       "</div>"
      ],
      "text/plain": [
       "                                                  English  \\\n",
       "count                                                 997   \n",
       "unique                                                997   \n",
       "top     Although most agencies are willing to take on ...   \n",
       "freq                                                    1   \n",
       "\n",
       "                                              MeiteiMayek  \n",
       "count                                                 997  \n",
       "unique                                                997  \n",
       "top     ꯑꯗꯨꯝꯑꯣꯢꯅꯃꯛ, ꯑꯌꯥꯝꯕ ꯑꯦꯖꯦꯟꯁꯤꯁꯤꯡꯅ ꯃꯍꯧꯁꯥꯒꯤ ꯕꯨꯀꯤꯡꯒꯨꯝ...  \n",
       "freq                                                    1  "
      ]
     },
     "execution_count": 23,
     "metadata": {},
     "output_type": "execute_result"
    }
   ],
   "source": [
    "df.describe()"
   ]
  },
  {
   "cell_type": "code",
   "execution_count": null,
   "id": "09df48b3",
   "metadata": {},
   "outputs": [],
   "source": []
  }
 ],
 "metadata": {
  "kernelspec": {
   "display_name": "Python (tensorflow-env)",
   "language": "python",
   "name": "tensorflow-env"
  },
  "language_info": {
   "codemirror_mode": {
    "name": "ipython",
    "version": 3
   },
   "file_extension": ".py",
   "mimetype": "text/x-python",
   "name": "python",
   "nbconvert_exporter": "python",
   "pygments_lexer": "ipython3",
   "version": "3.12.2"
  }
 },
 "nbformat": 4,
 "nbformat_minor": 5
}
